{
 "cells": [
  {
   "cell_type": "code",
   "execution_count": 32,
   "metadata": {},
   "outputs": [],
   "source": [
    "import PySimpleGUI as sg \n",
    "\n",
    "class Unit:\n",
    "    def __init__(self):\n",
    "        self.hp= 5\n",
    "        self.atk= 1\n",
    "        \n",
    "    def attack(self,target):\n",
    "        target.hp -= self.atk\n",
    "        print(target.name,\"hp\", target.hp)\n",
    "        return \"unit attack\"\n",
    "        \n",
    "class Player(Unit):\n",
    "    def __init__(self, name, hp, atk):\n",
    "        super().__init__()\n",
    "        self.name = name\n",
    "        self.hp = hp\n",
    "        self.atk = atk\n",
    "        \n",
    "    # def attack(self):\n",
    "    #     return self.name+\" attacks!\"\n",
    "        \n",
    "class Enemy(Unit):\n",
    "    def __init__(self, name, hp, atk):\n",
    "        super().__init__()\n",
    "        self.name = name\n",
    "        self.hp = hp\n",
    "        self.atk = atk\n",
    "    \n",
    "    # def attack(self):\n",
    "    #     return self.name+\" attacks!\"\n"
   ]
  },
  {
   "cell_type": "code",
   "execution_count": 36,
   "metadata": {},
   "outputs": [
    {
     "name": "stdout",
     "output_type": "stream",
     "text": [
      "Stephanie\n",
      "hp 10\n",
      "atk 2\n",
      "Vlad hp 3\n",
      "unit attack\n",
      "-\n",
      "Vlad\n",
      "hp 5\n",
      "atk 1\n",
      "Stephanie hp 9\n",
      "unit attack\n"
     ]
    }
   ],
   "source": [
    "p1= Player(\"Stephanie\",10,2)\n",
    "print(p1.name)\n",
    "print(\"hp\",p1.hp)\n",
    "print(\"atk\",p1.atk)\n",
    "print(p1.attack(e1))\n",
    "\n",
    "print(\"-\")\n",
    "\n",
    "e1 = Enemy(\"Vlad\",5,1)\n",
    "print(e1.name)\n",
    "print(\"hp\",e1.hp)\n",
    "print(\"atk\",e1.atk)\n",
    "print(e1.attack(p1))"
   ]
  }
 ],
 "metadata": {
  "interpreter": {
   "hash": "179fbfc1336d5405ac7b706d3dc17bb7572a11647f234436ffdd773c93716b2f"
  },
  "kernelspec": {
   "display_name": "Python 3.9.12 64-bit (windows store)",
   "language": "python",
   "name": "python3"
  },
  "language_info": {
   "codemirror_mode": {
    "name": "ipython",
    "version": 3
   },
   "file_extension": ".py",
   "mimetype": "text/x-python",
   "name": "python",
   "nbconvert_exporter": "python",
   "pygments_lexer": "ipython3",
   "version": "3.9.12"
  },
  "orig_nbformat": 4
 },
 "nbformat": 4,
 "nbformat_minor": 2
}
